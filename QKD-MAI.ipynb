{
 "cells": [
  {
   "cell_type": "markdown",
   "id": "646fecea",
   "metadata": {},
   "source": [
    "# References\n",
    "\n",
    "https://qiskit.org/textbook/ch-algorithms/quantum-key-distribution.html\n",
    "    \n",
    "Protecting Infromation by Susan Leopp, William K. Wootters"
   ]
  },
  {
   "cell_type": "markdown",
   "id": "77501581",
   "metadata": {},
   "source": [
    "# Without Interception"
   ]
  },
  {
   "cell_type": "code",
   "execution_count": 45,
   "id": "9f640c21",
   "metadata": {},
   "outputs": [],
   "source": [
    "from qiskit import QuantumCircuit, Aer, transpile, assemble, execute\n",
    "from qiskit.visualization import plot_histogram, plot_bloch_multivector\n",
    "from numpy.random import randint\n",
    "from qiskit import IBMQ\n",
    "import random\n",
    "import numpy as np\n",
    "\n",
    "#IBMQ.save_account('97ea24b31772b69c9b8fce4424efb5656330b4108602699ee146f0055effa02edecafb462323ce60dd7225e1bb66b57b433786d8df7a51638750b4e7ee1b7f5c', overwrite=True)\n",
    "#provider=IBMQ.load_account()\n",
    "#backend=provider.get_backend('ibmq_belem')\n",
    "simulator = Aer.get_backend('qasm_simulator')"
   ]
  },
  {
   "cell_type": "code",
   "execution_count": 46,
   "id": "593f91bc",
   "metadata": {},
   "outputs": [],
   "source": [
    "def without_eve(bits, al_bases, b_bases):\n",
    "    message = []\n",
    "    measurements = []\n",
    "    for i in range(len(bits)):\n",
    "        qc = QuantumCircuit(1,1)\n",
    "        if bits[i] == 1:Z\n",
    "            qc.x(0)\n",
    "        if al_bases[i] == 1:\n",
    "            qc.h(0)\n",
    "        \n",
    "        qc.barrier()\n",
    "        message.append(qc)\n",
    "        \n",
    "        if b_bases[i] == 1: # measuring in X-basis\n",
    "            message[i].h(0)\n",
    "        message[i].measure(0,0)\n",
    "        #result = execute(message[i], backend=backend, shots=1, memory = True).result()\n",
    "        result = execute(message[i], backend=simulator, shots=1, memory = True).result()\n",
    "        measured_bit = int(result.get_memory()[0])\n",
    "        measurements.append(measured_bit)\n",
    "        \n",
    "        #if bases[q] == 0: # measuring in Z-basis\n",
    "        #    message[q].measure(0,0)\n",
    "        #if bases[q] == 1: # measuring in X-basis\n",
    "        #    message[q].h(0)\n",
    "        #qc.draw()\n",
    "    return measurements"
   ]
  },
  {
   "cell_type": "code",
   "execution_count": 47,
   "id": "0fa5e355",
   "metadata": {},
   "outputs": [
    {
     "name": "stdout",
     "output_type": "stream",
     "text": [
      "[0, 0, 1, 0, 1, 0, 1, 1, 1, 1, 0, 1, 1, 1, 1, 1, 1, 0, 0, 0]\n"
     ]
    }
   ],
   "source": [
    "n = 20\n",
    "\n",
    "alice_bits = []\n",
    "for i in range(n):\n",
    "    alice_bits.append(random.randint(0,1))\n",
    "    \n",
    "\n",
    "alice_bases = []\n",
    "for i in range(n):\n",
    "    alice_bases.append(random.randint(0,1))\n",
    "\n",
    "    \n",
    "bob_bases = []\n",
    "for i in range(n):\n",
    "    bob_bases.append(random.randint(0,1))\n",
    "    \n",
    "    \n",
    "key_initial = without_eve(alice_bits, alice_bases, bob_bases)\n",
    "\n",
    "print(key_initial)"
   ]
  },
  {
   "cell_type": "code",
   "execution_count": 48,
   "id": "cad40e4b",
   "metadata": {},
   "outputs": [
    {
     "name": "stdout",
     "output_type": "stream",
     "text": [
      "Bob measures = [0, 0, 1, 0, 1, 0, 1, 1, 1, 1, 0, 1, 1, 1, 1, 1, 1, 0, 0, 0]\n",
      "Alice sends =  [0, 1, 1, 1, 1, 0, 0, 1, 1, 1, 1, 1, 1, 1, 1, 1, 1, 0, 0, 0]\n",
      "Bob basis =    [1, 0, 0, 0, 0, 0, 1, 0, 1, 1, 0, 1, 1, 1, 0, 1, 1, 0, 1, 0]\n",
      "Alice basis  = [1, 1, 1, 1, 0, 0, 0, 0, 0, 1, 1, 0, 1, 0, 1, 1, 1, 0, 1, 0]\n",
      "Secure key with alice  = [0, 1, 0, 1, 1, 1, 1, 1, 0, 0, 0]\n",
      "Secure key with bob    = [0, 1, 0, 1, 1, 1, 1, 1, 0, 0, 0]\n"
     ]
    }
   ],
   "source": [
    "print(\"Bob measures =\", key_initial)\n",
    "print (\"Alice sends = \",alice_bits)\n",
    "\n",
    "print(\"Bob basis =   \", bob_bases)\n",
    "print (\"Alice basis  =\",alice_bases)\n",
    "\n",
    "secure_keya = []\n",
    "secure_keyb = []\n",
    "\n",
    "for i in range(len(alice_bits)):\n",
    "    if(alice_bases[i]==bob_bases[i]):\n",
    "        secure_keya.append(key_initial[i])\n",
    "        secure_keyb.append(alice_bits[i])\n",
    "        \n",
    "print(\"Secure key with alice  =\",secure_keya)\n",
    "print(\"Secure key with bob    =\",secure_keyb)"
   ]
  },
  {
   "cell_type": "markdown",
   "id": "49ea60ba",
   "metadata": {},
   "source": [
    "# With Interception"
   ]
  },
  {
   "cell_type": "code",
   "execution_count": 49,
   "id": "623b7171",
   "metadata": {},
   "outputs": [],
   "source": [
    "def with_eve(bits, al_bases, eve_bases , b_bases):\n",
    "    message = []\n",
    "    eve_measurements = []\n",
    "    bob_measurements = []\n",
    "    for i in range(len(bits)):\n",
    "        qc = QuantumCircuit(1,1)\n",
    "        if bits[i] == 1:\n",
    "            qc.x(0)\n",
    "        if al_bases[i] == 1:\n",
    "            qc.h(0)\n",
    "        \n",
    "        qc.barrier()\n",
    "        message.append(qc)\n",
    "        \n",
    "        if eve_bases[i] == 1: # measuring in X-basis\n",
    "            message[i].h(0)\n",
    "        message[i].measure(0,0)\n",
    "        #result = execute(message[i], backend=backend, shots=1, memory = True).result()\n",
    "        result = execute(message[i], backend=simulator, shots=1, memory = True).result()\n",
    "        measured_bit = int(result.get_memory()[0])\n",
    "        eve_measurements.append(measured_bit)\n",
    "        if eve_bases[i] == 1: # measuring in X-basis\n",
    "            message[i].h(0)\n",
    "        \n",
    "        \n",
    "        \n",
    "        if b_bases[i] == 1: # measuring in X-basis\n",
    "            message[i].h(0)\n",
    "        message[i].measure(0,0)\n",
    "        #result = execute(message[i], backend=backend, shots=1, memory = True).result()\n",
    "        result = execute(message[i], backend=simulator, shots=1, memory = True).result()\n",
    "        measured_bit = int(result.get_memory()[0])\n",
    "        bob_measurements.append(measured_bit)\n",
    "        \n",
    "        #qc.draw()\n",
    "    return bob_measurements"
   ]
  },
  {
   "cell_type": "code",
   "execution_count": 50,
   "id": "0ce9e73f",
   "metadata": {},
   "outputs": [],
   "source": [
    "n = 50\n",
    "\n",
    "alice_bits = []\n",
    "for i in range(n):\n",
    "    alice_bits.append(random.randint(0,1))\n",
    "    \n",
    "\n",
    "alice_bases = []\n",
    "for i in range(n):\n",
    "    alice_bases.append(random.randint(0,1))\n",
    "    \n",
    "eve_bases = []\n",
    "for i in range(n):\n",
    "    eve_bases.append(random.randint(0,1))\n",
    "\n",
    "    \n",
    "bob_bases = []\n",
    "for i in range(n):\n",
    "    bob_bases.append(random.randint(0,1))\n",
    "    \n",
    "    \n",
    "message_bob = with_eve(alice_bits, alice_bases, eve_bases, bob_bases)\n"
   ]
  },
  {
   "cell_type": "code",
   "execution_count": 51,
   "id": "5d5a61df",
   "metadata": {},
   "outputs": [],
   "source": [
    "#print(\"Bob measures =\", message_bob)\n",
    "#print (\"Alice sends = \",alice_bits)\n",
    "\n",
    "#print(\"Bob basis =   \", bob_bases)\n",
    "#print (\"Alice basis  =\",alice_bases)\n",
    "\n",
    "secure_keya = []\n",
    "secure_keyb = []\n",
    "\n",
    "for i in range(len(alice_bits)):\n",
    "    if(alice_bases[i]==bob_bases[i]):\n",
    "        secure_keya.append(message_bob[i])\n",
    "        secure_keyb.append(alice_bits[i])\n",
    "        \n",
    "#print(\"Secure key with alice  =\",secure_keya)\n",
    "#print(\"Secure key with bob    =\",secure_keyb)"
   ]
  },
  {
   "cell_type": "markdown",
   "id": "fb242923",
   "metadata": {},
   "source": [
    "# Error Correction"
   ]
  },
  {
   "cell_type": "code",
   "execution_count": 57,
   "id": "100974f8",
   "metadata": {},
   "outputs": [],
   "source": [
    "def error_cal(secure_keya, secure_keyb):\n",
    "\n",
    "    error = 0\n",
    "    sample_size = int(len(secure_keya)/5)\n",
    "    for i in range(sample_size):\n",
    "        index = randint(0,len(secure_keya))\n",
    "        if secure_keya[index] != secure_keyb[index]:\n",
    "            error += 1\n",
    "        secure_keya.pop(index)\n",
    "        secure_keyb.pop(index)\n",
    "\n",
    "    error_rate = error/sample_size \n",
    "    \n",
    "    return error_rate\n",
    "#print (secure_keya)\n",
    "#print (secure_keyb)\n",
    "\n",
    "\n",
    "def error_calt(secure_keya, secure_keyb):\n",
    "\n",
    "    error = 0\n",
    "    for i in range(len(secure_keya)):\n",
    "        if secure_keya[i] != secure_keyb[i]:\n",
    "            error += 1\n",
    "        #secure_keya.pop(index)\n",
    "        #secure_keyb.pop(index)\n",
    "\n",
    "    error_rate = error/len(secure_keya)\n",
    "    \n",
    "    return error_rate\n",
    "\n",
    "\n",
    "#print(\"lenght =\", len(secure_keya))\n"
   ]
  },
  {
   "cell_type": "code",
   "execution_count": 53,
   "id": "fb569b3e",
   "metadata": {},
   "outputs": [],
   "source": [
    "def shuffling(seca, secb):\n",
    "    # Shuffling the keys in a similar order\n",
    "    keys = list(zip(seca, secb))\n",
    "    random.shuffle(keys)\n",
    "    \n",
    "    shuffle_seca , shuffle_secb = zip(*keys)\n",
    "    \n",
    "    return shuffle_seca, shuffle_secb\n",
    "\n",
    "def parity(sec):\n",
    "    # Determine parity of bit string\n",
    "    return np.sum(sec)%2\n",
    "\n",
    "def error_correction(seca, secb, flag):\n",
    "    # Recursive error correction\n",
    "    \n",
    "    #print(seca)\n",
    "    #print(secb)\n",
    "    if(len(seca)==1):\n",
    "        if(parity(seca) == parity(secb)):\n",
    "            return seca, secb ,0\n",
    "        else:\n",
    "            return seca, seca , 1\n",
    "        \n",
    "    if(len(seca)>1):\n",
    "        \n",
    "        new_size = int(len(seca)/2)\n",
    "        \n",
    "        seca_first  = seca[0:new_size] \n",
    "        seca_second = seca[new_size:] \n",
    "        \n",
    "        secb_first  = secb[0:new_size] \n",
    "        secb_second = secb[new_size:] \n",
    "        \n",
    "        if ((parity(seca_first) != parity(secb_first)) and (parity(seca_second) != parity(secb_second))):\n",
    "            corr_seca_f, corr_secb_f, f = error_correction(seca_first, secb_first, flag)\n",
    "            corr_seca_s, corr_secb_s, f = error_correction(seca_second, secb_second, flag)\n",
    "            return corr_seca_f + corr_seca_s, corr_secb_f + corr_secb_s, f\n",
    "        elif (parity(seca_first) != parity(secb_first)):\n",
    "            corr_seca_f, corr_secb_f, f = error_correction(seca_first, secb_first, flag)\n",
    "            return corr_seca_f + seca_second, corr_secb_f + secb_second, f\n",
    "        elif (parity(seca_second) != parity(secb_second)):\n",
    "            corr_seca_s, corr_secb_s, f = error_correction(seca_second, secb_second, flag)\n",
    "            return seca_first + corr_seca_s, secb_first + corr_secb_s, f\n",
    "        else:\n",
    "            return seca, secb, 0\n",
    "    \n",
    "        "
   ]
  },
  {
   "cell_type": "code",
   "execution_count": 54,
   "id": "16c355c2",
   "metadata": {},
   "outputs": [
    {
     "name": "stdout",
     "output_type": "stream",
     "text": [
      "Error rate sample =  0.6\n",
      "Error rate total=  0.2727272727272727\n",
      "Length of key before error correction =  22\n",
      "Errors =  13\n"
     ]
    }
   ],
   "source": [
    "error_rate_sample = error_cal(secure_keya, secure_keyb)\n",
    "error_rate_total = error_calt(secure_keya, secure_keyb)\n",
    "print(\"Error rate sample = \",error_rate_sample)\n",
    "print(\"Error rate total= \", error_calt(secure_keya, secure_keyb))\n",
    "\n",
    "errors = int(error_rate_sample*len(secure_keya))\n",
    "print(\"Length of key before error correction = \" , len(secure_keya))\n",
    "print(\"Errors = \", errors)\n"
   ]
  },
  {
   "cell_type": "code",
   "execution_count": 55,
   "id": "9eed3c41",
   "metadata": {},
   "outputs": [],
   "source": [
    "sec_ka, sec_kb = secure_keya, secure_keyb\n",
    "iterations = 0\n",
    "\n",
    "\n",
    "while errors > 0:\n",
    "    shuf_a, shuf_b = shuffling(sec_ka, sec_kb)\n",
    "    sec_ka, sec_kb, flag = error_correction(shuf_a, shuf_b, 0)\n",
    "    if (flag == True):\n",
    "        errors -= 1\n",
    "        \n",
    "    if(shuf_a == sec_ka and shuf_b == sec_kb):\n",
    "        iterations += 1\n",
    "    \n",
    "    if(iterations > 5):\n",
    "        break\n",
    "        \n",
    "    #print(sec_ka)\n",
    "    #print(sec_kb)\n",
    "    "
   ]
  },
  {
   "cell_type": "code",
   "execution_count": 59,
   "id": "ea662eec",
   "metadata": {},
   "outputs": [
    {
     "name": "stdout",
     "output_type": "stream",
     "text": [
      "22\n",
      "Error rate sample =  0.0\n",
      "Error rate total=  0.0\n"
     ]
    }
   ],
   "source": [
    "#print(\"Secure key with alice  =\",sec_ka)\n",
    "#print(\"Secure key with bob    =\",sec_kb)\n",
    "\n",
    "secure_key_with_alice = []\n",
    "secure_key_with_bob = []\n",
    "\n",
    "for i in range(len(sec_ka)):\n",
    "    secure_key_with_alice.append(sec_ka[i])\n",
    "    secure_key_with_bob.append(sec_kb[i])\n",
    "\n",
    "\n",
    "print(len(secure_key_with_alice))\n",
    "\n",
    "print(\"Error rate sample = \",error_cal(secure_key_with_alice, secure_key_with_bob))\n",
    "print(\"Error rate total= \", error_calt(secure_key_with_alice, secure_key_with_bob))"
   ]
  },
  {
   "cell_type": "markdown",
   "id": "cf3727dd",
   "metadata": {},
   "source": [
    "# Privacy Amplification"
   ]
  },
  {
   "cell_type": "code",
   "execution_count": 87,
   "id": "785c938f",
   "metadata": {},
   "outputs": [],
   "source": [
    "new_size = int(len(secure_key_with_alice)/4)*4\n",
    "\n",
    "sec_ka = secure_key_with_alice[0:new_size]\n",
    "sec_kb = secure_key_with_bob[0:new_size]\n"
   ]
  },
  {
   "cell_type": "code",
   "execution_count": 86,
   "id": "0037cc07",
   "metadata": {},
   "outputs": [
    {
     "name": "stdout",
     "output_type": "stream",
     "text": [
      "Key with Alice before PA =  [1, 1, 0, 1, 1, 1, 1, 0, 0, 1, 1, 0, 0, 0, 0, 1]\n",
      "Key with Bob before PA   =  [1, 1, 0, 1, 1, 1, 1, 0, 0, 1, 1, 0, 0, 0, 0, 1]\n",
      "Key with Alice after PA  =  [1, 0, 0, 1, 1, 1, 0, 1]\n",
      "Key with Bob after PA    =  [1, 0, 0, 1, 1, 1, 0, 1]\n"
     ]
    }
   ],
   "source": [
    "hamming_matrix = [[1, 0, 1, 0], [0, 1, 0, 1]]\n",
    "\n",
    "#print(hamming_matrix)\n",
    "print(\"Key with Alice before PA = \", sec_ka)\n",
    "print(\"Key with Bob before PA   = \", sec_kb)\n",
    "\n",
    "ampl_ka = []\n",
    "ampl_kb = []\n",
    "\n",
    "for i in range(int(new_size/4)):\n",
    "    sub_ka = sec_ka[i*4:i*4+4]\n",
    "    sub_kb = sec_kb[i*4:i*4+4]\n",
    "    \n",
    "    for j in range(len(hamming_matrix)):\n",
    "\n",
    "        ampl_ka.append((np.matmul(hamming_matrix, sub_ka)%2)[j])\n",
    "        ampl_kb.append((np.matmul(hamming_matrix, sub_kb)%2)[j])\n",
    "    \n",
    "print(\"Key with Alice after PA  = \", ampl_ka)\n",
    "print(\"Key with Bob after PA    = \", ampl_kb)"
   ]
  },
  {
   "cell_type": "code",
   "execution_count": null,
   "id": "29eaca56",
   "metadata": {},
   "outputs": [],
   "source": []
  }
 ],
 "metadata": {
  "kernelspec": {
   "display_name": "Python 3 (ipykernel)",
   "language": "python",
   "name": "python3"
  },
  "language_info": {
   "codemirror_mode": {
    "name": "ipython",
    "version": 3
   },
   "file_extension": ".py",
   "mimetype": "text/x-python",
   "name": "python",
   "nbconvert_exporter": "python",
   "pygments_lexer": "ipython3",
   "version": "3.9.7"
  }
 },
 "nbformat": 4,
 "nbformat_minor": 5
}
